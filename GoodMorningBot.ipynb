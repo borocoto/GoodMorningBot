{
 "cells": [
  {
   "cell_type": "code",
   "execution_count": 1,
   "id": "e5fcb95b",
   "metadata": {},
   "outputs": [],
   "source": [
    "import telebot\n",
    "from telebot import types\n",
    "import pandas as pd\n",
    "from random import choice"
   ]
  },
  {
   "cell_type": "code",
   "execution_count": 2,
   "id": "a97a327a",
   "metadata": {},
   "outputs": [],
   "source": [
    "file = open('token.txt', 'r')\n",
    "token = file.read()\n",
    "bot = telebot.TeleBot(token)"
   ]
  },
  {
   "cell_type": "code",
   "execution_count": 3,
   "id": "cf649aab",
   "metadata": {},
   "outputs": [],
   "source": [
    "letters = 'АБВГДЕЖЗИЙКЛМНОПРСТУФХЦЧШЩЭЮЯ'\n",
    "words = []\n",
    "for letter in letters:\n",
    "    words += list(open('Words/{}.txt'.format(letter), 'r', encoding=\"utf-8\"))\n",
    "\n",
    "selected = []\n",
    "endings = 'уеэоаыяиюцй)'\n",
    "for i in range(len(words)):\n",
    "    #The format is 'word ' => cutting off the last sign:\n",
    "    words[i] = words[i][:-1]\n",
    "    if words[i][-1] not in endings:\n",
    "        selected.append(words[i])\n",
    "\n",
    "#To check what ending ('ы' or 'и') to use:        \n",
    "def check_letter(letter):\n",
    "    for word in selected:\n",
    "        if word[-1] == letter:\n",
    "            print(word)\n",
    "\n",
    "def morning():\n",
    "    male = choice(selected)\n",
    "    female = male + 'ессы'\n",
    "    if male[-2:] == 'ок' or male[-2:] == 'ек':\n",
    "        morning = 'Доброе утро, ' + male[:-2] + 'ки и ' + male[:-2] + 'кессы' + '!'\n",
    "    elif male[-1] == 'ь':\n",
    "        morning = 'Доброе утро, ' + male[:-1] + 'и и ' + male[:-1] + 'ессы' + '!'\n",
    "    elif male[-1] in 'гжкхчшщ':\n",
    "        morning = 'Доброе утро, ' + male + 'и и ' + female + '!'\n",
    "    elif male == 'господин':\n",
    "        morning = 'Доброе утро, господа и господессы!'\n",
    "    else:\n",
    "        morning = 'Доброе утро, ' + male + 'ы и ' + female + '!'\n",
    "    return morning\n"
   ]
  },
  {
   "cell_type": "code",
   "execution_count": 4,
   "id": "8e59d249",
   "metadata": {},
   "outputs": [],
   "source": [
    "check_letter(')')"
   ]
  },
  {
   "cell_type": "code",
   "execution_count": 5,
   "id": "8d5a16a5",
   "metadata": {},
   "outputs": [
    {
     "name": "stdout",
     "output_type": "stream",
     "text": [
      "Доброе утро, пентагоны и пентагонессы!\n"
     ]
    }
   ],
   "source": [
    "print(morning())"
   ]
  },
  {
   "cell_type": "code",
   "execution_count": 6,
   "id": "4bb54987",
   "metadata": {},
   "outputs": [],
   "source": [
    "@bot.message_handler(commands=['start'])\n",
    "def start(message):\n",
    "    markup = types.ReplyKeyboardMarkup(resize_keyboard=True)\n",
    "    btn1 = types.KeyboardButton(\"Пожелать!\")\n",
    "    markup.add(btn1)\n",
    "    bot.send_message(message.from_user.id, text=morning(), reply_markup=markup)\n",
    "    \n",
    "@bot.message_handler(content_types=['text'])\n",
    "def func(message):\n",
    "    if(message.text == \"Пожелать!\"):\n",
    "        bot.send_message(message.from_user.id, morning())\n",
    "    else:\n",
    "        bot.send_message(message.from_user.id, \"Ничего не понимаю, жмите на кнопку!\")"
   ]
  },
  {
   "cell_type": "code",
   "execution_count": null,
   "id": "af4de8aa",
   "metadata": {},
   "outputs": [],
   "source": [
    "bot.polling(none_stop=True, interval=0)"
   ]
  }
 ],
 "metadata": {
  "kernelspec": {
   "display_name": "Python 3 (ipykernel)",
   "language": "python",
   "name": "python3"
  },
  "language_info": {
   "codemirror_mode": {
    "name": "ipython",
    "version": 3
   },
   "file_extension": ".py",
   "mimetype": "text/x-python",
   "name": "python",
   "nbconvert_exporter": "python",
   "pygments_lexer": "ipython3",
   "version": "3.9.7"
  }
 },
 "nbformat": 4,
 "nbformat_minor": 5
}
